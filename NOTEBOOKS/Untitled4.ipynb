{
 "cells": [
  {
   "cell_type": "code",
   "execution_count": 1,
   "metadata": {},
   "outputs": [
    {
     "name": "stdout",
     "output_type": "stream",
     "text": [
      "Analyzing Titanic Passenger Data.ipynb\tPresidents.ipynb\n",
      "Basemaps.ipynb\t\t\t\tReadingCensusData.ipynb\n",
      "Beazley idiomatic data .ipynb\t\tSciPy_Demo.ipynb\n",
      "Cython_Demo.ipynb\t\t\tSeattleCycling.ipynb\n",
      "Data_Analysis_in_Python.ipynb\t\tSeattleCycling2.ipynb\n",
      "Data_Analysis_in_Python.pdf\t\tSeattleCycling2.pdf\n",
      "DurhamArsonData.ipynb\t\t\tStudentContributions.ipynb\n",
      "Exploring_netCDF_Files.ipynb\t\tUMBCEvals.ipynb\n",
      "HouseholdSNAP.ipynb\t\t\tUS States Admission Dates.ipynb\n",
      "JupyterDemo.ipynb\t\t\tUntitled.ipynb\n",
      "Markdown_Reference.ipynb\t\tUntitled1.ipynb\n",
      "MatPlotLibExamples.ipynb\t\tUntitled2.ipynb\n",
      "MatPlotLibExamplesClassic.ipynb\t\tUntitled3.ipynb\n",
      "MatplotlibFiguresAxesSubplots.ipynb\tUntitled4.ipynb\n",
      "MatplotlibStyleGallery.ipynb\t\tWidgets_demo.ipynb\n",
      "MatplotlibStyleGallery.pdf\t\tannotation.pdf\n",
      "PandasCategoricals.ipynb\t\thello.py\n",
      "PandasGroupbyDemo.ipynb\t\t\timages\n",
      "Pandas_Demo.ipynb\t\t\timports.py\n",
      "Pandas_Input_Demo.ipynb\t\t\tipython_demo.ipynb\n",
      "Pandas_Input_Demo.slides.html\t\tsales.png\n",
      "Pandas_Selection_Demo.ipynb\t\twombat.pdf\n",
      "Pets Per Capita.ipynb\t\t\twombat.png\n",
      "Plotting from the ground up.ipynb\n"
     ]
    }
   ],
   "source": [
    "x=5\n",
    "ls"
   ]
  },
  {
   "cell_type": "code",
   "execution_count": 2,
   "metadata": {},
   "outputs": [
    {
     "name": "stdout",
     "output_type": "stream",
     "text": [
      "5\n"
     ]
    }
   ],
   "source": [
    "echo $x"
   ]
  },
  {
   "cell_type": "code",
   "execution_count": null,
   "metadata": {},
   "outputs": [],
   "source": []
  }
 ],
 "metadata": {
  "kernelspec": {
   "display_name": "Bash",
   "language": "bash",
   "name": "bash"
  },
  "language_info": {
   "codemirror_mode": "shell",
   "file_extension": ".sh",
   "mimetype": "text/x-sh",
   "name": "bash"
  }
 },
 "nbformat": 4,
 "nbformat_minor": 2
}
