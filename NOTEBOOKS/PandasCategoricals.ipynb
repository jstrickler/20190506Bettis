{
 "cells": [
  {
   "cell_type": "markdown",
   "metadata": {},
   "source": [
    "# Memory savings using categoricals"
   ]
  },
  {
   "cell_type": "code",
   "execution_count": 2,
   "metadata": {},
   "outputs": [],
   "source": [
    "#!/usr/bin/env python\n",
    "import pandas as pd"
   ]
  },
  {
   "cell_type": "markdown",
   "metadata": {},
   "source": [
    "## Without categoricals"
   ]
  },
  {
   "cell_type": "code",
   "execution_count": 14,
   "metadata": {},
   "outputs": [
    {
     "name": "stdout",
     "output_type": "stream",
     "text": [
      "<class 'pandas.core.frame.DataFrame'>\n",
      "RangeIndex: 32054 entries, 0 to 32053\n",
      "Data columns (total 4 columns):\n",
      "Name                      32054 non-null object\n",
      "Position Title            32054 non-null object\n",
      "Department                32054 non-null object\n",
      "Employee Annual Salary    32054 non-null object\n",
      "dtypes: object(4)\n",
      "memory usage: 8.5 MB\n"
     ]
    }
   ],
   "source": [
    "# columns:\n",
    "# Name,Position Title,Department,Employee Annual Salary\n",
    "df_no_cat = pd.read_csv(\n",
    "    \"../DATA/city-of-chicago-salaries.csv\",\n",
    "    converters={'Employee Annual Salary':lambda s: s.strip('$')},\n",
    ")\n",
    "df_no_cat.info(memory_usage='deep')"
   ]
  },
  {
   "cell_type": "code",
   "execution_count": 9,
   "metadata": {},
   "outputs": [
    {
     "name": "stdout",
     "output_type": "stream",
     "text": [
      "                       Name  Position Title Department Employee Annual Salary\n",
      "count                 32054           32054      32054                  32054\n",
      "unique                31795            1098         35                   1097\n",
      "top     RODRIGUEZ,  RICHARD  POLICE OFFICER     POLICE               78012.00\n",
      "freq                      4            9432      13623                   2750\n"
     ]
    }
   ],
   "source": [
    "print(df_no_cat.describe())"
   ]
  },
  {
   "cell_type": "markdown",
   "metadata": {},
   "source": [
    "## With categoricals"
   ]
  },
  {
   "cell_type": "code",
   "execution_count": 11,
   "metadata": {},
   "outputs": [
    {
     "data": {
      "text/html": [
       "<div>\n",
       "<style scoped>\n",
       "    .dataframe tbody tr th:only-of-type {\n",
       "        vertical-align: middle;\n",
       "    }\n",
       "\n",
       "    .dataframe tbody tr th {\n",
       "        vertical-align: top;\n",
       "    }\n",
       "\n",
       "    .dataframe thead th {\n",
       "        text-align: right;\n",
       "    }\n",
       "</style>\n",
       "<table border=\"1\" class=\"dataframe\">\n",
       "  <thead>\n",
       "    <tr style=\"text-align: right;\">\n",
       "      <th></th>\n",
       "      <th>Name</th>\n",
       "      <th>Position Title</th>\n",
       "      <th>Department</th>\n",
       "      <th>Employee Annual Salary</th>\n",
       "    </tr>\n",
       "  </thead>\n",
       "  <tbody>\n",
       "    <tr>\n",
       "      <th>0</th>\n",
       "      <td>AARON,  ELVIA J</td>\n",
       "      <td>WATER RATE TAKER</td>\n",
       "      <td>WATER MGMNT</td>\n",
       "      <td>85512.0</td>\n",
       "    </tr>\n",
       "    <tr>\n",
       "      <th>1</th>\n",
       "      <td>AARON,  JEFFERY M</td>\n",
       "      <td>POLICE OFFICER</td>\n",
       "      <td>POLICE</td>\n",
       "      <td>75372.0</td>\n",
       "    </tr>\n",
       "    <tr>\n",
       "      <th>2</th>\n",
       "      <td>AARON,  KIMBERLEI R</td>\n",
       "      <td>CHIEF CONTRACT EXPEDITER</td>\n",
       "      <td>GENERAL SERVICES</td>\n",
       "      <td>80916.0</td>\n",
       "    </tr>\n",
       "    <tr>\n",
       "      <th>3</th>\n",
       "      <td>ABAD JR,  VICENTE M</td>\n",
       "      <td>CIVIL ENGINEER IV</td>\n",
       "      <td>WATER MGMNT</td>\n",
       "      <td>99648.0</td>\n",
       "    </tr>\n",
       "    <tr>\n",
       "      <th>4</th>\n",
       "      <td>ABBATACOLA,  ROBERT J</td>\n",
       "      <td>ELECTRICAL MECHANIC</td>\n",
       "      <td>AVIATION</td>\n",
       "      <td>89440.0</td>\n",
       "    </tr>\n",
       "  </tbody>\n",
       "</table>\n",
       "</div>"
      ],
      "text/plain": [
       "                    Name            Position Title        Department  \\\n",
       "0        AARON,  ELVIA J          WATER RATE TAKER       WATER MGMNT   \n",
       "1      AARON,  JEFFERY M            POLICE OFFICER            POLICE   \n",
       "2    AARON,  KIMBERLEI R  CHIEF CONTRACT EXPEDITER  GENERAL SERVICES   \n",
       "3    ABAD JR,  VICENTE M         CIVIL ENGINEER IV       WATER MGMNT   \n",
       "4  ABBATACOLA,  ROBERT J       ELECTRICAL MECHANIC          AVIATION   \n",
       "\n",
       "   Employee Annual Salary  \n",
       "0                 85512.0  \n",
       "1                 75372.0  \n",
       "2                 80916.0  \n",
       "3                 99648.0  \n",
       "4                 89440.0  "
      ]
     },
     "execution_count": 11,
     "metadata": {},
     "output_type": "execute_result"
    }
   ],
   "source": [
    "df_cat = pd.read_csv(\n",
    "    \"../DATA/city-of-chicago-salaries.csv\",\n",
    "    converters={'Employee Annual Salary':lambda s: float(s[1:])},\n",
    "    dtype={\"Position Title\": \"category\", \"Department\": \"category\"},\n",
    ")\n"
   ]
  },
  {
   "cell_type": "code",
   "execution_count": 64,
   "metadata": {},
   "outputs": [
    {
     "name": "stdout",
     "output_type": "stream",
     "text": [
      "       Employee Annual Salary\n",
      "count            32054.000000\n",
      "mean             75070.385710\n",
      "std              23180.297928\n",
      "min                  0.960000\n",
      "25%              69576.000000\n",
      "50%              78012.000000\n",
      "75%              87303.000000\n",
      "max             260004.000000\n"
     ]
    }
   ],
   "source": [
    "print(df_cat.describe())"
   ]
  },
  {
   "cell_type": "code",
   "execution_count": 13,
   "metadata": {},
   "outputs": [
    {
     "name": "stdout",
     "output_type": "stream",
     "text": [
      "<class 'pandas.core.frame.DataFrame'>\n",
      "RangeIndex: 32054 entries, 0 to 32053\n",
      "Data columns (total 4 columns):\n",
      "Name                      32054 non-null object\n",
      "Position Title            32054 non-null category\n",
      "Department                32054 non-null category\n",
      "Employee Annual Salary    32054 non-null float64\n",
      "dtypes: category(2), float64(1), object(1)\n",
      "memory usage: 2.7 MB\n"
     ]
    }
   ],
   "source": [
    "df_cat.info(memory_usage='deep')"
   ]
  },
  {
   "cell_type": "markdown",
   "metadata": {},
   "source": [
    "## With categoricals (and splitting name)"
   ]
  },
  {
   "cell_type": "code",
   "execution_count": 22,
   "metadata": {},
   "outputs": [
    {
     "data": {
      "text/html": [
       "<div>\n",
       "<style scoped>\n",
       "    .dataframe tbody tr th:only-of-type {\n",
       "        vertical-align: middle;\n",
       "    }\n",
       "\n",
       "    .dataframe tbody tr th {\n",
       "        vertical-align: top;\n",
       "    }\n",
       "\n",
       "    .dataframe thead th {\n",
       "        text-align: right;\n",
       "    }\n",
       "</style>\n",
       "<table border=\"1\" class=\"dataframe\">\n",
       "  <thead>\n",
       "    <tr style=\"text-align: right;\">\n",
       "      <th></th>\n",
       "      <th>Position Title</th>\n",
       "      <th>Department</th>\n",
       "      <th>Employee Annual Salary</th>\n",
       "      <th>Last Name</th>\n",
       "      <th>First Name</th>\n",
       "    </tr>\n",
       "  </thead>\n",
       "  <tbody>\n",
       "    <tr>\n",
       "      <th>0</th>\n",
       "      <td>WATER RATE TAKER</td>\n",
       "      <td>WATER MGMNT</td>\n",
       "      <td>85512.0</td>\n",
       "      <td>AARON</td>\n",
       "      <td>ELVIA J</td>\n",
       "    </tr>\n",
       "    <tr>\n",
       "      <th>1</th>\n",
       "      <td>POLICE OFFICER</td>\n",
       "      <td>POLICE</td>\n",
       "      <td>75372.0</td>\n",
       "      <td>AARON</td>\n",
       "      <td>JEFFERY M</td>\n",
       "    </tr>\n",
       "    <tr>\n",
       "      <th>2</th>\n",
       "      <td>CHIEF CONTRACT EXPEDITER</td>\n",
       "      <td>GENERAL SERVICES</td>\n",
       "      <td>80916.0</td>\n",
       "      <td>AARON</td>\n",
       "      <td>KIMBERLEI R</td>\n",
       "    </tr>\n",
       "    <tr>\n",
       "      <th>3</th>\n",
       "      <td>CIVIL ENGINEER IV</td>\n",
       "      <td>WATER MGMNT</td>\n",
       "      <td>99648.0</td>\n",
       "      <td>ABAD JR</td>\n",
       "      <td>VICENTE M</td>\n",
       "    </tr>\n",
       "    <tr>\n",
       "      <th>4</th>\n",
       "      <td>ELECTRICAL MECHANIC</td>\n",
       "      <td>AVIATION</td>\n",
       "      <td>89440.0</td>\n",
       "      <td>ABBATACOLA</td>\n",
       "      <td>ROBERT J</td>\n",
       "    </tr>\n",
       "  </tbody>\n",
       "</table>\n",
       "</div>"
      ],
      "text/plain": [
       "             Position Title        Department  Employee Annual Salary  \\\n",
       "0          WATER RATE TAKER       WATER MGMNT                 85512.0   \n",
       "1            POLICE OFFICER            POLICE                 75372.0   \n",
       "2  CHIEF CONTRACT EXPEDITER  GENERAL SERVICES                 80916.0   \n",
       "3         CIVIL ENGINEER IV       WATER MGMNT                 99648.0   \n",
       "4       ELECTRICAL MECHANIC          AVIATION                 89440.0   \n",
       "\n",
       "    Last Name     First Name  \n",
       "0       AARON        ELVIA J  \n",
       "1       AARON      JEFFERY M  \n",
       "2       AARON    KIMBERLEI R  \n",
       "3     ABAD JR      VICENTE M  \n",
       "4  ABBATACOLA       ROBERT J  "
      ]
     },
     "execution_count": 22,
     "metadata": {},
     "output_type": "execute_result"
    }
   ],
   "source": [
    "df_cat_split = pd.read_csv(\n",
    "    \"../DATA/city-of-chicago-salaries.csv\",    \n",
    "    dtype={\"Position Title\": \"category\", \"Department\": \"category\"},\n",
    "    converters={'Employee Annual Salary':lambda s: float(s[1:])},\n",
    ")\n",
    "df_cat_split['Last Name'], df_cat_split['First Name'] = df_cat_split.Name.str.split(',', 1).str\n",
    "df_cat_split.drop('Name', axis=1, inplace=True)\n",
    "df_cat_split['Last Name'] = df_cat_split['Last Name'].astype('category')\n",
    "df_cat_split['First Name'] = df_cat_split['First Name'].astype('category')\n",
    "\n",
    "df_cat_split.head()"
   ]
  },
  {
   "cell_type": "code",
   "execution_count": 26,
   "metadata": {},
   "outputs": [
    {
     "name": "stdout",
     "output_type": "stream",
     "text": [
      "count           32054\n",
      "unique          11644\n",
      "top         MICHAEL J\n",
      "freq              280\n",
      "Name: First Name, dtype: object\n"
     ]
    }
   ],
   "source": [
    "print(df_cat_split[\"First Name\"].describe())"
   ]
  },
  {
   "cell_type": "markdown",
   "metadata": {},
   "source": [
    "## Results\n",
    "Let's look at memory usage for all 3 dataframes"
   ]
  },
  {
   "cell_type": "code",
   "execution_count": 17,
   "metadata": {},
   "outputs": [
    {
     "data": {
      "text/plain": [
       "Index                          80\n",
       "Name                      2378643\n",
       "Position Title            2407193\n",
       "Department                2074713\n",
       "Employee Annual Salary    2085644\n",
       "dtype: int64"
      ]
     },
     "execution_count": 17,
     "metadata": {},
     "output_type": "execute_result"
    }
   ],
   "source": [
    "\n",
    "df_no_cat.memory_usage(deep=True)\n"
   ]
  },
  {
   "cell_type": "code",
   "execution_count": 71,
   "metadata": {},
   "outputs": [
    {
     "name": "stdout",
     "output_type": "stream",
     "text": [
      "Index                          80\n",
      "Name                      2378643\n",
      "Position Title             194406\n",
      "Department                  35727\n",
      "Employee Annual Salary     256432\n",
      "dtype: int64\n",
      "\n"
     ]
    }
   ],
   "source": [
    "print(df_cat.memory_usage(deep=True))\n",
    "print()"
   ]
  },
  {
   "cell_type": "code",
   "execution_count": 72,
   "metadata": {},
   "outputs": [
    {
     "name": "stdout",
     "output_type": "stream",
     "text": [
      "Index                          80\n",
      "Position Title             194406\n",
      "Department                  35727\n",
      "Employee Annual Salary     256432\n",
      "First Name                1606450\n",
      "Last Name                 1167801\n",
      "dtype: int64\n",
      "\n"
     ]
    }
   ],
   "source": [
    "print(df_cat_split.memory_usage(deep=True))\n",
    "print()"
   ]
  },
  {
   "cell_type": "code",
   "execution_count": 75,
   "metadata": {},
   "outputs": [
    {
     "name": "stdout",
     "output_type": "stream",
     "text": [
      "POLICE                   13623\n",
      "FIRE                      4731\n",
      "STREETS & SAN             2070\n",
      "WATER MGMNT               1857\n",
      "OEMC                      1292\n",
      "AVIATION                  1218\n",
      "TRANSPORTN                1168\n",
      "PUBLIC LIBRARY             926\n",
      "GENERAL SERVICES           913\n",
      "FAMILY & SUPPORT           727\n",
      "HEALTH                     573\n",
      "FINANCE                    520\n",
      "LAW                        450\n",
      "CITY COUNCIL               378\n",
      "BUILDINGS                  242\n",
      "COMMUNITY DEVELOPMENT      207\n",
      "BUSINESS AFFAIRS           181\n",
      "BOARD OF ELECTION          110\n",
      "DoIT                        99\n",
      "MAYOR'S OFFICE              99\n",
      "CITY CLERK                  86\n",
      "IPRA                        85\n",
      "CULTURAL AFFAIRS            79\n",
      "PROCUREMENT                 71\n",
      "HUMAN RESOURCES             68\n",
      "ANIMAL CONTRL               61\n",
      "INSPECTOR GEN               50\n",
      "BUDGET & MGMT               44\n",
      "ADMIN HEARNG                42\n",
      "DISABILITIES                29\n",
      "TREASURER                   25\n",
      "HUMAN RELATIONS             18\n",
      "BOARD OF ETHICS              9\n",
      "POLICE BOARD                 2\n",
      "LICENSE APPL COMM            1\n",
      "Name: Department, dtype: int64\n"
     ]
    }
   ],
   "source": [
    "print(df[\"Department\"].value_counts())"
   ]
  },
  {
   "cell_type": "code",
   "execution_count": 53,
   "metadata": {},
   "outputs": [
    {
     "data": {
      "text/html": [
       "<div>\n",
       "<style scoped>\n",
       "    .dataframe tbody tr th:only-of-type {\n",
       "        vertical-align: middle;\n",
       "    }\n",
       "\n",
       "    .dataframe tbody tr th {\n",
       "        vertical-align: top;\n",
       "    }\n",
       "\n",
       "    .dataframe thead th {\n",
       "        text-align: right;\n",
       "    }\n",
       "</style>\n",
       "<table border=\"1\" class=\"dataframe\">\n",
       "  <thead>\n",
       "    <tr style=\"text-align: right;\">\n",
       "      <th></th>\n",
       "      <th>Name</th>\n",
       "      <th>Position Title</th>\n",
       "      <th>Department</th>\n",
       "      <th>Employee Annual Salary</th>\n",
       "    </tr>\n",
       "  </thead>\n",
       "  <tbody>\n",
       "    <tr>\n",
       "      <th>9427</th>\n",
       "      <td>GALLAGHER,  GEORGE J</td>\n",
       "      <td>POLICE OFFICER (ASSIGNED AS DETECTIVE)</td>\n",
       "      <td>POLICE</td>\n",
       "      <td>96444.0</td>\n",
       "    </tr>\n",
       "    <tr>\n",
       "      <th>11713</th>\n",
       "      <td>HART,  TERENCE C</td>\n",
       "      <td>POLICE OFFICER (ASSIGNED AS DETECTIVE)</td>\n",
       "      <td>POLICE</td>\n",
       "      <td>96444.0</td>\n",
       "    </tr>\n",
       "    <tr>\n",
       "      <th>15854</th>\n",
       "      <td>LAS COLA,  JAMES C</td>\n",
       "      <td>POLICE OFFICER (ASSIGNED AS DETECTIVE)</td>\n",
       "      <td>POLICE</td>\n",
       "      <td>96444.0</td>\n",
       "    </tr>\n",
       "    <tr>\n",
       "      <th>24033</th>\n",
       "      <td>RILEY,  MARY P</td>\n",
       "      <td>POLICE OFFICER (ASSIGNED AS DETECTIVE)</td>\n",
       "      <td>POLICE</td>\n",
       "      <td>96444.0</td>\n",
       "    </tr>\n",
       "    <tr>\n",
       "      <th>24769</th>\n",
       "      <td>ROMIC,  JEAN MARIE</td>\n",
       "      <td>POLICE OFFICER (ASSIGNED AS DETECTIVE)</td>\n",
       "      <td>POLICE</td>\n",
       "      <td>96444.0</td>\n",
       "    </tr>\n",
       "    <tr>\n",
       "      <th>185</th>\n",
       "      <td>AGOSTA,  JOSEPH J</td>\n",
       "      <td>POLICE OFFICER (ASSIGNED AS DETECTIVE)</td>\n",
       "      <td>POLICE</td>\n",
       "      <td>93192.0</td>\n",
       "    </tr>\n",
       "    <tr>\n",
       "      <th>234</th>\n",
       "      <td>AGUIRRE,  JOSEPH R</td>\n",
       "      <td>POLICE OFFICER (ASSIGNED AS DETECTIVE)</td>\n",
       "      <td>POLICE</td>\n",
       "      <td>93192.0</td>\n",
       "    </tr>\n",
       "    <tr>\n",
       "      <th>707</th>\n",
       "      <td>ANDERSON,  JAMES E</td>\n",
       "      <td>POLICE OFFICER (ASSIGNED AS DETECTIVE)</td>\n",
       "      <td>POLICE</td>\n",
       "      <td>93192.0</td>\n",
       "    </tr>\n",
       "    <tr>\n",
       "      <th>1327</th>\n",
       "      <td>BALDWIN,  JOHN R</td>\n",
       "      <td>POLICE OFFICER (ASSIGNED AS DETECTIVE)</td>\n",
       "      <td>POLICE</td>\n",
       "      <td>93192.0</td>\n",
       "    </tr>\n",
       "    <tr>\n",
       "      <th>1545</th>\n",
       "      <td>BARRERA,  JOSEPH A</td>\n",
       "      <td>POLICE OFFICER (ASSIGNED AS DETECTIVE)</td>\n",
       "      <td>POLICE</td>\n",
       "      <td>93192.0</td>\n",
       "    </tr>\n",
       "  </tbody>\n",
       "</table>\n",
       "</div>"
      ],
      "text/plain": [
       "                       Name                          Position Title  \\\n",
       "9427   GALLAGHER,  GEORGE J  POLICE OFFICER (ASSIGNED AS DETECTIVE)   \n",
       "11713      HART,  TERENCE C  POLICE OFFICER (ASSIGNED AS DETECTIVE)   \n",
       "15854    LAS COLA,  JAMES C  POLICE OFFICER (ASSIGNED AS DETECTIVE)   \n",
       "24033        RILEY,  MARY P  POLICE OFFICER (ASSIGNED AS DETECTIVE)   \n",
       "24769    ROMIC,  JEAN MARIE  POLICE OFFICER (ASSIGNED AS DETECTIVE)   \n",
       "185       AGOSTA,  JOSEPH J  POLICE OFFICER (ASSIGNED AS DETECTIVE)   \n",
       "234      AGUIRRE,  JOSEPH R  POLICE OFFICER (ASSIGNED AS DETECTIVE)   \n",
       "707      ANDERSON,  JAMES E  POLICE OFFICER (ASSIGNED AS DETECTIVE)   \n",
       "1327       BALDWIN,  JOHN R  POLICE OFFICER (ASSIGNED AS DETECTIVE)   \n",
       "1545     BARRERA,  JOSEPH A  POLICE OFFICER (ASSIGNED AS DETECTIVE)   \n",
       "\n",
       "      Department  Employee Annual Salary  \n",
       "9427      POLICE                 96444.0  \n",
       "11713     POLICE                 96444.0  \n",
       "15854     POLICE                 96444.0  \n",
       "24033     POLICE                 96444.0  \n",
       "24769     POLICE                 96444.0  \n",
       "185       POLICE                 93192.0  \n",
       "234       POLICE                 93192.0  \n",
       "707       POLICE                 93192.0  \n",
       "1327      POLICE                 93192.0  \n",
       "1545      POLICE                 93192.0  "
      ]
     },
     "execution_count": 53,
     "metadata": {},
     "output_type": "execute_result"
    }
   ],
   "source": [
    "df_cat[\n",
    "    (df_cat['Department'] == 'POLICE') &\n",
    "    (df_cat['Position Title'].str.contains('DETECTIVE'))\n",
    "].nlargest(10, 'Employee Annual Salary')\n"
   ]
  },
  {
   "cell_type": "code",
   "execution_count": 57,
   "metadata": {},
   "outputs": [
    {
     "ename": "ValueError",
     "evalue": "No axis named Employee Annual Salary for object type <class 'pandas.core.frame.DataFrame'>",
     "output_type": "error",
     "traceback": [
      "\u001b[0;31m---------------------------------------------------------------------------\u001b[0m",
      "\u001b[0;31mValueError\u001b[0m                                Traceback (most recent call last)",
      "\u001b[0;32m<ipython-input-57-cd4aa77b523c>\u001b[0m in \u001b[0;36m<module>\u001b[0;34m()\u001b[0m\n\u001b[1;32m      2\u001b[0m     \u001b[0;34m(\u001b[0m\u001b[0mdf_cat\u001b[0m\u001b[0;34m[\u001b[0m\u001b[0;34m'Department'\u001b[0m\u001b[0;34m]\u001b[0m \u001b[0;34m==\u001b[0m \u001b[0;34m'POLICE'\u001b[0m\u001b[0;34m)\u001b[0m \u001b[0;34m&\u001b[0m\u001b[0;34m\u001b[0m\u001b[0m\n\u001b[1;32m      3\u001b[0m     \u001b[0;34m(\u001b[0m\u001b[0mdf_cat\u001b[0m\u001b[0;34m[\u001b[0m\u001b[0;34m'Position Title'\u001b[0m\u001b[0;34m]\u001b[0m\u001b[0;34m.\u001b[0m\u001b[0mstr\u001b[0m\u001b[0;34m.\u001b[0m\u001b[0mcontains\u001b[0m\u001b[0;34m(\u001b[0m\u001b[0;34m'DETECTIVE'\u001b[0m\u001b[0;34m)\u001b[0m\u001b[0;34m)\u001b[0m\u001b[0;34m\u001b[0m\u001b[0m\n\u001b[0;32m----> 4\u001b[0;31m ].idxmax('Employee Annual Salary')\n\u001b[0m",
      "\u001b[0;32m~/.pyenv/versions/anaconda3-5.3.1/lib/python3.7/site-packages/pandas/core/frame.py\u001b[0m in \u001b[0;36midxmax\u001b[0;34m(self, axis, skipna)\u001b[0m\n\u001b[1;32m   7039\u001b[0m         \u001b[0mSeries\u001b[0m\u001b[0;34m.\u001b[0m\u001b[0midxmax\u001b[0m\u001b[0;34m\u001b[0m\u001b[0m\n\u001b[1;32m   7040\u001b[0m         \"\"\"\n\u001b[0;32m-> 7041\u001b[0;31m         \u001b[0maxis\u001b[0m \u001b[0;34m=\u001b[0m \u001b[0mself\u001b[0m\u001b[0;34m.\u001b[0m\u001b[0m_get_axis_number\u001b[0m\u001b[0;34m(\u001b[0m\u001b[0maxis\u001b[0m\u001b[0;34m)\u001b[0m\u001b[0;34m\u001b[0m\u001b[0m\n\u001b[0m\u001b[1;32m   7042\u001b[0m         \u001b[0mindices\u001b[0m \u001b[0;34m=\u001b[0m \u001b[0mnanops\u001b[0m\u001b[0;34m.\u001b[0m\u001b[0mnanargmax\u001b[0m\u001b[0;34m(\u001b[0m\u001b[0mself\u001b[0m\u001b[0;34m.\u001b[0m\u001b[0mvalues\u001b[0m\u001b[0;34m,\u001b[0m \u001b[0maxis\u001b[0m\u001b[0;34m=\u001b[0m\u001b[0maxis\u001b[0m\u001b[0;34m,\u001b[0m \u001b[0mskipna\u001b[0m\u001b[0;34m=\u001b[0m\u001b[0mskipna\u001b[0m\u001b[0;34m)\u001b[0m\u001b[0;34m\u001b[0m\u001b[0m\n\u001b[1;32m   7043\u001b[0m         \u001b[0mindex\u001b[0m \u001b[0;34m=\u001b[0m \u001b[0mself\u001b[0m\u001b[0;34m.\u001b[0m\u001b[0m_get_axis\u001b[0m\u001b[0;34m(\u001b[0m\u001b[0maxis\u001b[0m\u001b[0;34m)\u001b[0m\u001b[0;34m\u001b[0m\u001b[0m\n",
      "\u001b[0;32m~/.pyenv/versions/anaconda3-5.3.1/lib/python3.7/site-packages/pandas/core/generic.py\u001b[0m in \u001b[0;36m_get_axis_number\u001b[0;34m(self, axis)\u001b[0m\n\u001b[1;32m    373\u001b[0m                 \u001b[0;32mpass\u001b[0m\u001b[0;34m\u001b[0m\u001b[0m\n\u001b[1;32m    374\u001b[0m         raise ValueError('No axis named {0} for object type {1}'\n\u001b[0;32m--> 375\u001b[0;31m                          .format(axis, type(self)))\n\u001b[0m\u001b[1;32m    376\u001b[0m \u001b[0;34m\u001b[0m\u001b[0m\n\u001b[1;32m    377\u001b[0m     \u001b[0;32mdef\u001b[0m \u001b[0m_get_axis_name\u001b[0m\u001b[0;34m(\u001b[0m\u001b[0mself\u001b[0m\u001b[0;34m,\u001b[0m \u001b[0maxis\u001b[0m\u001b[0;34m)\u001b[0m\u001b[0;34m:\u001b[0m\u001b[0;34m\u001b[0m\u001b[0m\n",
      "\u001b[0;31mValueError\u001b[0m: No axis named Employee Annual Salary for object type <class 'pandas.core.frame.DataFrame'>"
     ]
    }
   ],
   "source": [
    "df_cat[\n",
    "    (df_cat['Department'] == 'POLICE') &\n",
    "    (df_cat['Position Title'].str.contains('DETECTIVE'))\n",
    "].idxmax(1, 'Employee Annual Salary')\n"
   ]
  },
  {
   "cell_type": "code",
   "execution_count": null,
   "metadata": {},
   "outputs": [],
   "source": []
  }
 ],
 "metadata": {
  "kernelspec": {
   "display_name": "Python 3",
   "language": "python",
   "name": "python3"
  },
  "language_info": {
   "codemirror_mode": {
    "name": "ipython",
    "version": 3
   },
   "file_extension": ".py",
   "mimetype": "text/x-python",
   "name": "python",
   "nbconvert_exporter": "python",
   "pygments_lexer": "ipython3",
   "version": "3.7.0"
  }
 },
 "nbformat": 4,
 "nbformat_minor": 2
}
